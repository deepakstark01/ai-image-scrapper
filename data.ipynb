{
 "cells": [
  {
   "cell_type": "code",
   "execution_count": 1,
   "id": "657f0c6f",
   "metadata": {},
   "outputs": [],
   "source": [
    "\n",
    "\n",
    "import requests\n",
    "\n",
    "cookies = {\n",
    "    '_ga_SWJQXHKNTW': 'GS2.1.s1750882423$o1$g0$t1750882423$j60$l0$h0',\n",
    "    '_ga': 'GA1.2.1661914141.1750882424',\n",
    "    '_gid': 'GA1.2.1243320903.1750882424',\n",
    "    '_ym_uid': '1750882425468778643',\n",
    "    '_ym_d': '1750882425',\n",
    "    '__gads': 'ID=d4eaf1f8199c62a1:T=1750882424:RT=1750882424:S=ALNI_MYnkPDSanCzIAZNh5QQvZvKaczm-Q',\n",
    "    '__gpi': 'UID=00001139adb51592:T=1750882424:RT=1750882424:S=ALNI_MYWGdqvbmI0O602cG4ESx-AM0ci5w',\n",
    "    '__eoi': 'ID=80ad4114cab930ec:T=1750882424:RT=1750882424:S=AA-AfjZ3uE1Wr4rzpTcrH5e7_UOD',\n",
    "    '_ym_isad': '2',\n",
    "    'FCNEC': '%5B%5B%22AKsRol_yuHy4GtUiJ-F8ZcLp9ryplaiYfKx-fi1iJ5C6vIO_10BpE5dZYJ2DQx0xnfzBGSaQFLUerJJeqSDNcckbGw_-VdoE4uEb96QzeQbnRDVjLTh9ZPqjfBsnhWsb9sq8C9epXFVE7lNHsBA1lw7oR3fZaPZL9A%3D%3D%22%5D%5D',\n",
    "}\n",
    "\n",
    "headers = {\n",
    "    'User-Agent': 'Mozilla/5.0 (Macintosh; Intel Mac OS X 10.15; rv:140.0) Gecko/20100101 Firefox/140.0',\n",
    "    'Accept': '*/*',\n",
    "    'Accept-Language': 'en-US,en;q=0.5',\n",
    "    # 'Accept-Encoding': 'gzip, deflate, br, zstd',\n",
    "    'Alt-Used': 'this-person-does-not-exist.com',\n",
    "    'Connection': 'keep-alive',\n",
    "    'Referer': 'https://this-person-does-not-exist.com/en',\n",
    "    # 'Cookie': '_ga_SWJQXHKNTW=GS2.1.s1750882423$o1$g0$t1750882423$j60$l0$h0; _ga=GA1.2.1661914141.1750882424; _gid=GA1.2.1243320903.1750882424; _ym_uid=1750882425468778643; _ym_d=1750882425; __gads=ID=d4eaf1f8199c62a1:T=1750882424:RT=1750882424:S=ALNI_MYnkPDSanCzIAZNh5QQvZvKaczm-Q; __gpi=UID=00001139adb51592:T=1750882424:RT=1750882424:S=ALNI_MYWGdqvbmI0O602cG4ESx-AM0ci5w; __eoi=ID=80ad4114cab930ec:T=1750882424:RT=1750882424:S=AA-AfjZ3uE1Wr4rzpTcrH5e7_UOD; _ym_isad=2; FCNEC=%5B%5B%22AKsRol_yuHy4GtUiJ-F8ZcLp9ryplaiYfKx-fi1iJ5C6vIO_10BpE5dZYJ2DQx0xnfzBGSaQFLUerJJeqSDNcckbGw_-VdoE4uEb96QzeQbnRDVjLTh9ZPqjfBsnhWsb9sq8C9epXFVE7lNHsBA1lw7oR3fZaPZL9A%3D%3D%22%5D%5D',\n",
    "    'Sec-Fetch-Dest': 'empty',\n",
    "    'Sec-Fetch-Mode': 'cors',\n",
    "    'Sec-Fetch-Site': 'same-origin',\n",
    "    'Priority': 'u=0',\n",
    "}\n",
    "\n",
    "\n",
    "\n"
   ]
  },
  {
   "cell_type": "code",
   "execution_count": 2,
   "id": "3b2742b7",
   "metadata": {},
   "outputs": [],
   "source": [
    "response = requests.get(\n",
    "    'https://this-person-does-not-exist.com/new?time=1750883285644^&gender=all^&age=all^&etnic=all',\n",
    "    cookies=cookies,\n",
    "    headers=headers,\n",
    ")"
   ]
  },
  {
   "cell_type": "code",
   "execution_count": 3,
   "id": "88d484c1",
   "metadata": {},
   "outputs": [
    {
     "name": "stdout",
     "output_type": "stream",
     "text": [
      "200\n"
     ]
    }
   ],
   "source": [
    "print(response.status_code)"
   ]
  },
  {
   "cell_type": "code",
   "execution_count": 4,
   "id": "93f4e7f4",
   "metadata": {},
   "outputs": [],
   "source": [
    "data = response.json()"
   ]
  },
  {
   "cell_type": "code",
   "execution_count": 5,
   "id": "368de524",
   "metadata": {},
   "outputs": [
    {
     "data": {
      "text/plain": [
       "{'generated': 'true',\n",
       " 'scheme': 'http',\n",
       " 'src': '/img/avatar-gen5fab58cc217770c380e06756f6ed2ff2.jpg',\n",
       " 'name': 'avatar-gen5fab58cc217770c380e06756f6ed2ff2.jpg'}"
      ]
     },
     "execution_count": 5,
     "metadata": {},
     "output_type": "execute_result"
    }
   ],
   "source": [
    "data"
   ]
  },
  {
   "cell_type": "code",
   "execution_count": 6,
   "id": "a1b7ed8a",
   "metadata": {},
   "outputs": [],
   "source": [
    "base_url=\"https://this-person-does-not-exist.com\"\n",
    "def get_random_images(gender='all', age='all', etnic='all'):\n",
    "    response = requests.get(\n",
    "        f'{base_url}/new?time=1750883285644^&gender={gender}^&age={age}^&etnic={etnic}',\n",
    "        cookies=cookies,\n",
    "        headers=headers,\n",
    "    )\n",
    "    data = response.json()\n",
    "    if response.status_code == 200:\n",
    "        img_url= base_url+data['src']\n",
    "        return img_url\n",
    "    else:\n",
    "        raise Exception(f\"Error fetching data: {response.status_code} - {response.text}\")"
   ]
  },
  {
   "cell_type": "code",
   "execution_count": 7,
   "id": "1d5804dc",
   "metadata": {},
   "outputs": [],
   "source": [
    "import os \n",
    "folder_path = 'images'\n",
    "if not os.path.exists(folder_path):\n",
    "    os.makedirs(folder_path)\n",
    "def download_image(image_url, filename):\n",
    "    response = requests.get(image_url)\n",
    "    if response.status_code == 200:\n",
    "        with open(os.path.join(folder_path, filename), 'wb') as file:\n",
    "            file.write(response.content)\n",
    "        print(f\"Image saved as {filename}\")\n",
    "    else:\n",
    "        raise Exception(f\"Error downloading image: {response.status_code} - {response.text}\")"
   ]
  },
  {
   "cell_type": "code",
   "execution_count": 10,
   "id": "b2ca66c0",
   "metadata": {},
   "outputs": [],
   "source": [
    "def main(number_of_images=5):\n",
    "    for i in range(number_of_images):\n",
    "        try:\n",
    "            img_url = get_random_images()\n",
    "            filename = f'random_person_{i+1}.jpg'\n",
    "            download_image(img_url, filename)\n",
    "        except Exception as e:\n",
    "            print(f\"An error occurred: {e}\")"
   ]
  },
  {
   "cell_type": "code",
   "execution_count": 11,
   "id": "9071140d",
   "metadata": {},
   "outputs": [
    {
     "name": "stdout",
     "output_type": "stream",
     "text": [
      "Image saved as random_person_1.jpg\n",
      "Image saved as random_person_2.jpg\n",
      "Image saved as random_person_3.jpg\n",
      "Image saved as random_person_4.jpg\n",
      "Image saved as random_person_5.jpg\n"
     ]
    }
   ],
   "source": [
    "num= 5\n",
    "main(number_of_images=num)"
   ]
  },
  {
   "cell_type": "code",
   "execution_count": null,
   "id": "2201f788",
   "metadata": {},
   "outputs": [],
   "source": []
  }
 ],
 "metadata": {
  "kernelspec": {
   "display_name": "ml",
   "language": "python",
   "name": "python3"
  },
  "language_info": {
   "codemirror_mode": {
    "name": "ipython",
    "version": 3
   },
   "file_extension": ".py",
   "mimetype": "text/x-python",
   "name": "python",
   "nbconvert_exporter": "python",
   "pygments_lexer": "ipython3",
   "version": "3.10.16"
  }
 },
 "nbformat": 4,
 "nbformat_minor": 5
}
